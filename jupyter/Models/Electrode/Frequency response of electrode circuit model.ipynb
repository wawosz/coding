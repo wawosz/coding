{
 "cells": [
  {
   "cell_type": "markdown",
   "metadata": {},
   "source": [
    "## Frequency response of electrode circuit model"
   ]
  },
  {
   "cell_type": "markdown",
   "metadata": {},
   "source": [
    "Standard imports"
   ]
  },
  {
   "cell_type": "code",
   "execution_count": 1,
   "metadata": {
    "collapsed": true
   },
   "outputs": [],
   "source": [
    "import math\n",
    "import numpy as np\n",
    "import matplotlib.pyplot as plt"
   ]
  },
  {
   "cell_type": "markdown",
   "metadata": {},
   "source": [
    "Definition of an electrode model using predefined values for $R_d$, $R_s$ and $C_d$.  \n",
    "The impedance ($Z$) was defined in the class as:    \n",
    "\n",
    "$Z = \\dfrac{R_d}{1+j\\omega R_d C_d} + R_s$  "
   ]
  },
  {
   "cell_type": "code",
   "execution_count": 2,
   "metadata": {
    "collapsed": true
   },
   "outputs": [],
   "source": [
    "def electrode(freq):\n",
    "    Rd = 29500.0\n",
    "    Rs = 500.0\n",
    "    Cd = 54e-9\n",
    "    Z = Rs + (Rd / (1 + 2j * math.pi * freq * Rd * Cd))\n",
    "    return Z"
   ]
  },
  {
   "cell_type": "markdown",
   "metadata": {},
   "source": [
    "Finally, we can plot the magnitude of the impedance versus the frequency in Hz:"
   ]
  },
  {
   "cell_type": "code",
   "execution_count": 9,
   "metadata": {},
   "outputs": [
    {
     "data": {
      "image/png": "[encoded data removed]",
      "text/plain": [
       "<Figure size 432x288 with 1 Axes>"
      ]
     },
     "metadata": {
      "needs_background": "light"
     },
     "output_type": "display_data"
    }
   ],
   "source": [
    "f = np.linspace(start=0, stop=100000, num=100000)\n",
    "\n",
    "plt.loglog(f, np.absolute(electrode(f)), basex=10, basey=10)\n",
    "plt.grid(True)\n",
    "plt.title('Frequency response of an electrode circuit')\n",
    "plt.xlabel('Frequency (Hz)')\n",
    "plt.ylabel('Impedance ($\\Omega$)')\n",
    "plt.savefig(\"graph_model.png\", bbox_inches='tight')\n",
    "plt.show()"
   ]
  },
  {
   "cell_type": "markdown",
   "metadata": {},
   "source": [
    "From the graphs, we can find that for $\\omega \\rightarrow 0$, the impedance is $R_s + R_d = 30k\\Omega$.  \n",
    "For very large frequencies, $\\omega \\rightarrow \\infty$, the impedance becomes $R_s = 500\\Omega$. \n",
    "Please note, that $R_s << R_d$."
   ]
  },
  {
   "cell_type": "code",
   "execution_count": null,
   "metadata": {
    "collapsed": true
   },
   "outputs": [],
   "source": []
  }
 ],
 "metadata": {
  "kernelspec": {
   "display_name": "Python 3",
   "language": "python",
   "name": "python3"
  },
  "language_info": {
   "codemirror_mode": {
    "name": "ipython",
    "version": 3
   },
   "file_extension": ".py",
   "mimetype": "text/x-python",
   "name": "python",
   "nbconvert_exporter": "python",
   "pygments_lexer": "ipython3",
   "version": "3.6.7"
  }
 },
 "nbformat": 4,
 "nbformat_minor": 2
}
