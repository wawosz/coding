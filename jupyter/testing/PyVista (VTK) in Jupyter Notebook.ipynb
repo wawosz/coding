{
 "cells": [
  {
   "cell_type": "markdown",
   "metadata": {},
   "source": [
    "# Testing PyVista Visualizations in JupyterLab with itkwidgets\n",
    "\n",
    "This program is free software; you can redistribute it and#or modify it under the terms of the GNU General Public License as published by the Free Software Foundation; either version 2 of the License, or (at your option) any later version.\n",
    "\n",
    "This program is distributed in the hope that it will be useful, but WITHOUT ANY WARRANTY; without even the implied warranty of MERCHANTABILITY or FITNESS FOR A PARTICULAR PURPOSE.  See the GNU General Public License for more details. You should have received a copy of the GNU General Public License along with this program; if not, write to the Free Software Foundation, Inc., 59 Temple Place - Suite 330, Boston, MA  02111-1307, USA."
   ]
  },
  {
   "cell_type": "markdown",
   "metadata": {},
   "source": [
    "## Example 1\n",
    "Python code inspired on the example from https://www.pyvista.org/ describing short how to implement pyvista into jupyter notebook."
   ]
  },
  {
   "cell_type": "code",
   "execution_count": 2,
   "metadata": {},
   "outputs": [
    {
     "data": {
      "application/vnd.jupyter.widget-view+json": {
       "model_id": "ee54d2f1b2da4f3eae3c18e32e6fab18",
       "version_major": 2,
       "version_minor": 0
      },
      "text/plain": [
       "ViewInteractiveWidget(height=300, layout=Layout(height='auto', width='100%'), width=400)"
      ]
     },
     "metadata": {},
     "output_type": "display_data"
    }
   ],
   "source": [
    "import pyvista\n",
    "sphere = pyvista.Sphere()\n",
    "\n",
    "plotter = pyvista.Plotter(notebook=True, window_size=[400, 300])\n",
    "plotter.add_mesh(sphere)\n",
    "plotter.show()"
   ]
  },
  {
   "cell_type": "markdown",
   "metadata": {},
   "source": [
    "## Example 2\n",
    "Example to plot 3D parametric function (i.e.: supertoroid) based on my example located at https://github.com/wawosz"
   ]
  },
  {
   "cell_type": "code",
   "execution_count": 3,
   "metadata": {},
   "outputs": [],
   "source": [
    "# standard imports\n",
    "import pyvista\n",
    "import numpy as np\n",
    "import random\n",
    "import matplotlib.pyplot as plt"
   ]
  },
  {
   "cell_type": "code",
   "execution_count": 4,
   "metadata": {},
   "outputs": [],
   "source": [
    "# function definition\n",
    "def supertorus(yScale, xScale, Height, InternalRadius, Vertical, Horizontal,\n",
    "               deltaX=0, deltaY=0, deltaZ=0):\n",
    "  \n",
    "    #  initial range for values used in parametric equation\n",
    "    n = 100\n",
    "    u = np.linspace(-np.pi, np.pi, n)\n",
    "    t = np.linspace(-np.pi, np.pi, n)\n",
    "    u, t = np.meshgrid(u, t)\n",
    "\n",
    "    # a1: Y Scale <0, 2>\n",
    "    a1 = yScale\n",
    "    # a2: X Scale <0, 2>\n",
    "    a2 = xScale\n",
    "    # a3: Height <0, 5>\n",
    "    a3 = Height\n",
    "    # a4: Internal radius <0, 5>\n",
    "    a4 = InternalRadius\n",
    "    # e1: Vertical squareness <0.25, 1>\n",
    "    e1 = Vertical\n",
    "    # e2: Horizontal squareness <0.25, 1>\n",
    "    e2 = Horizontal\n",
    "\n",
    "    # Definition of parametric equation for supertorus\n",
    "    x = a1 * (a4 + np.sign(np.cos(u)) * np.abs(np.cos(u)) ** e1) *\\\n",
    "        np.sign(np.cos(t)) * np.abs(np.cos(t)) ** e2\n",
    "    y = a2 * (a4 + np.sign(np.cos(u)) * np.abs(np.cos(u)) ** e1) *\\\n",
    "        np.sign(np.sin(t)) * np.abs(np.sin(t)) ** e2\n",
    "    z = a3 * np.sign(np.sin(u)) * np.abs(np.sin(u)) ** e1\n",
    "    \n",
    "    grid = pyvista.StructuredGrid(x + deltaX + 5, y + deltaY + 5, z + deltaZ)\n",
    "    return grid "
   ]
  },
  {
   "cell_type": "code",
   "execution_count": 5,
   "metadata": {},
   "outputs": [
    {
     "data": {
      "application/vnd.jupyter.widget-view+json": {
       "model_id": "2c5b50cc556545ff82088179455325e4",
       "version_major": 2,
       "version_minor": 0
      },
      "text/plain": [
       "ViewInteractiveWidget(height=300, layout=Layout(height='auto', width='100%'), width=400)"
      ]
     },
     "metadata": {},
     "output_type": "display_data"
    }
   ],
   "source": [
    "# setup the screen to plot image\n",
    "p = pyvista.Plotter(notebook=True,window_size=[400, 300])\n",
    "p.set_background(color='black')\n",
    "surface = supertorus(yScale=1.0, xScale=1.0, Height=1.0, InternalRadius=2.0, Vertical=1.0, Horizontal=1.0)\n",
    "p.add_mesh(surface, color=[random.random(), 0.5, 1], opacity=1)\n",
    "p.show()"
   ]
  },
  {
   "cell_type": "markdown",
   "metadata": {},
   "source": [
    "## Example 3\n",
    "This example illustrates how to create an interactive vtk window"
   ]
  },
  {
   "cell_type": "code",
   "execution_count": 6,
   "metadata": {},
   "outputs": [
    {
     "ename": "QtDeprecationError",
     "evalue": "`BackgroundPlotter` has moved to pyvistaqt.\n    You can install this from PyPI with: `pip install pyvistaqt`\n    Then import it via: `from pyvistaqt import BackgroundPlotter`\n    `BackgroundPlotter` is no longer accessible by `pyvista.BackgroundPlotter`\n    See https://github.com/pyvista/pyvistaqt\n",
     "output_type": "error",
     "traceback": [
      "\u001b[0;31m---------------------------------------------------------------------------\u001b[0m",
      "\u001b[0;31mQtDeprecationError\u001b[0m                        Traceback (most recent call last)",
      "Cell \u001b[0;32mIn [6], line 5\u001b[0m\n\u001b[1;32m      2\u001b[0m \u001b[38;5;28;01mfrom\u001b[39;00m \u001b[38;5;21;01mpyvista\u001b[39;00m \u001b[38;5;28;01mimport\u001b[39;00m examples\n\u001b[1;32m      4\u001b[0m dataset \u001b[38;5;241m=\u001b[39m examples\u001b[38;5;241m.\u001b[39mload_hexbeam()\n\u001b[0;32m----> 5\u001b[0m p \u001b[38;5;241m=\u001b[39m \u001b[43mpv\u001b[49m\u001b[38;5;241;43m.\u001b[39;49m\u001b[43mBackgroundPlotter\u001b[49m\u001b[43m(\u001b[49m\u001b[43m)\u001b[49m\n\u001b[1;32m      6\u001b[0m p\u001b[38;5;241m.\u001b[39madd_mesh(dataset)\n\u001b[1;32m      7\u001b[0m p\u001b[38;5;241m.\u001b[39mshow_bounds(grid\u001b[38;5;241m=\u001b[39m\u001b[38;5;28;01mTrue\u001b[39;00m, location\u001b[38;5;241m=\u001b[39m\u001b[38;5;124m'\u001b[39m\u001b[38;5;124mback\u001b[39m\u001b[38;5;124m'\u001b[39m)\n",
      "File \u001b[0;32m~/.local/lib/python3.10/site-packages/pyvista/plotting/__init__.py:54\u001b[0m, in \u001b[0;36mBackgroundPlotter.__init__\u001b[0;34m(self, *args, **kwargs)\u001b[0m\n\u001b[1;32m     52\u001b[0m \u001b[38;5;28;01mdef\u001b[39;00m \u001b[38;5;21m__init__\u001b[39m(\u001b[38;5;28mself\u001b[39m, \u001b[38;5;241m*\u001b[39margs, \u001b[38;5;241m*\u001b[39m\u001b[38;5;241m*\u001b[39mkwargs):\n\u001b[1;32m     53\u001b[0m     \u001b[38;5;124;03m\"\"\"Empty init.\"\"\"\u001b[39;00m\n\u001b[0;32m---> 54\u001b[0m     \u001b[38;5;28;01mraise\u001b[39;00m QtDeprecationError(\u001b[38;5;124m'\u001b[39m\u001b[38;5;124mBackgroundPlotter\u001b[39m\u001b[38;5;124m'\u001b[39m)\n",
      "\u001b[0;31mQtDeprecationError\u001b[0m: `BackgroundPlotter` has moved to pyvistaqt.\n    You can install this from PyPI with: `pip install pyvistaqt`\n    Then import it via: `from pyvistaqt import BackgroundPlotter`\n    `BackgroundPlotter` is no longer accessible by `pyvista.BackgroundPlotter`\n    See https://github.com/pyvista/pyvistaqt\n"
     ]
    }
   ],
   "source": [
    "import pyvista as pv\n",
    "from pyvista import examples\n",
    "\n",
    "dataset = examples.load_hexbeam()\n",
    "p = pv.BackgroundPlotter()\n",
    "p.add_mesh(dataset)\n",
    "p.show_bounds(grid=True, location='back')"
   ]
  },
  {
   "cell_type": "markdown",
   "metadata": {},
   "source": [
    "## Example 4\n",
    "This example uses itkwidgets from Example 3 but to plot supertoroids"
   ]
  },
  {
   "cell_type": "code",
   "execution_count": 6,
   "metadata": {},
   "outputs": [],
   "source": [
    "import numpy as np\n",
    "import pyvista as pv\n",
    "\n",
    "# get dataset for the glyphs: supertoroid in xy plane\n",
    "saucer = pv.ParametricSuperToroid(ringradius=1, n2=1, zradius=1)\n",
    "saucer.rotate_y(90)\n",
    "# saucer.plot()  #  <-- check how a single saucer looks like\n",
    "\n",
    "# get dataset where to put glyphs\n",
    "x,y,z = np.mgrid[-10:10, -10:10, :1]\n",
    "mesh = pv.StructuredGrid(x, y, z)\n",
    "\n",
    "# construct the glyphs on top of the mesh\n",
    "glyphs = mesh.glyph(geom=saucer, factor=0.3)\n",
    "# glyphs.plot()  #  <-- simplest way to plot it\n",
    "\n",
    "# create Plotter and add our glyphs with some nontrivial lighting\n",
    "plotter = pv.BackgroundPlotter()\n",
    "plotter.set_background(color='black')\n",
    "plotter.add_mesh(glyphs, color=[0.5, 0.2, 0.2], specular=1, specular_power=15)\n",
    "\n",
    "plotter.show()"
   ]
  },
  {
   "cell_type": "code",
   "execution_count": null,
   "metadata": {},
   "outputs": [],
   "source": []
  }
 ],
 "metadata": {
  "kernelspec": {
   "display_name": "Python 3 (ipykernel)",
   "language": "python",
   "name": "python3"
  },
  "language_info": {
   "codemirror_mode": {
    "name": "ipython",
    "version": 3
   },
   "file_extension": ".py",
   "mimetype": "text/x-python",
   "name": "python",
   "nbconvert_exporter": "python",
   "pygments_lexer": "ipython3",
   "version": "3.10.7"
  }
 },
 "nbformat": 4,
 "nbformat_minor": 4
}
