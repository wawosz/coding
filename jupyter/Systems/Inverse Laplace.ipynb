{
 "cells": [
  {
   "cell_type": "markdown",
   "metadata": {},
   "source": [
    "## Partial fraction decomposition and inverse Laplace Transform\n",
    "\n",
    "(C) 2019 by Wawrzyniec L. Dobrucki, Ph.D."
   ]
  },
  {
   "cell_type": "markdown",
   "metadata": {},
   "source": [
    "#### Calculation example   \n",
    "Find the transfer function of the system described by the following ODE:   \n",
    "\n",
    "$3\\dfrac{\\delta^2y}{\\delta t^2} + \\dfrac{\\delta y}{\\delta t} = 4x(t)$"
   ]
  },
  {
   "cell_type": "markdown",
   "metadata": {},
   "source": [
    "#### Solution   \n",
    "First step requires converting the ODE to frequency domain with _Laplace_ Transform to get:   \n",
    "\n",
    "$3S^2Y(S) + SY(S) = 4X(S)$   \n",
    "\n",
    "$Y(S) (3S^2 + S) = 4X(S)$   \n",
    "\n",
    "Finally, the transfer function $H(S)$ is defined as:   \n",
    "\n",
    "$H(S) = \\dfrac{Y(S)}{X(S)} = \\dfrac{4}{3S^2 + S}$"
   ]
  },
  {
   "cell_type": "markdown",
   "metadata": {},
   "source": [
    "#### Other considerations   \n",
    "Let's discuss this result further and calculate system's output in time domain $y(t)$.   \n",
    "From the example above, we know that system's output in frequency domain is:   \n",
    "\n",
    "$Y(S) = \\dfrac{4}{3S^2 + S} X(S)$   \n",
    "\n",
    "To convert $Y(S)$ to $y(t)$, we need to use inverse _Laplace_ transform. Traditionally, printed tables of _Laplace_ Transform were used. First, we should first perform *partial fraction expansion* and represent $Y(S)$ as a sum of terms that appear in standard tables. We can perform the partial fraction expansion (or decomposition) using _sympy_ module in Python:"
   ]
  },
  {
   "cell_type": "code",
   "execution_count": 1,
   "metadata": {},
   "outputs": [],
   "source": [
    "# standard imports\n",
    "from sympy import *\n",
    "import matplotlib.pyplot as plt\n",
    "init_printing()   # print results as LaTeX"
   ]
  },
  {
   "cell_type": "code",
   "execution_count": 2,
   "metadata": {},
   "outputs": [],
   "source": [
    "# define symbols and the function (transfer function H(S))\n",
    "s = Symbol('s', real=False)\n",
    "t = Symbol('t', positive=True)\n",
    "transfer_fnc = 4/(3*s**2 + s)"
   ]
  },
  {
   "cell_type": "code",
   "execution_count": 3,
   "metadata": {},
   "outputs": [
    {
     "data": {
      "image/png": "[encoded data removed]",
      "text/latex": [
       "$$\\frac{4}{3 s^{2} + s}$$"
      ],
      "text/plain": [
       "   4    \n",
       "────────\n",
       "   2    \n",
       "3⋅s  + s"
      ]
     },
     "execution_count": 3,
     "metadata": {},
     "output_type": "execute_result"
    }
   ],
   "source": [
    "# let's print the transfer function as formatted equation\n",
    "transfer_fnc"
   ]
  },
  {
   "cell_type": "code",
   "execution_count": 4,
   "metadata": {},
   "outputs": [
    {
     "data": {
      "image/png": "[encoded data removed]",
      "text/latex": [
       "$$- \\frac{12}{3 s + 1} + \\frac{4}{s}$$"
      ],
      "text/plain": [
       "     12     4\n",
       "- ─────── + ─\n",
       "  3⋅s + 1   s"
      ]
     },
     "execution_count": 4,
     "metadata": {},
     "output_type": "execute_result"
    }
   ],
   "source": [
    "# partial fraction decomposition is done using (apart)\n",
    "apart(transfer_fnc)"
   ]
  },
  {
   "cell_type": "markdown",
   "metadata": {},
   "source": [
    "In the tables of _Laplace_ Transform, we can find the solutions for the terms above. Therefore:   \n",
    "\n",
    "$y(t) = 4(1 - e^{-t/3})$"
   ]
  },
  {
   "cell_type": "markdown",
   "metadata": {},
   "source": [
    "Alternatively, we can use *inverse_laplace_transform* function to directly calculate $y(t)$:"
   ]
  },
  {
   "cell_type": "code",
   "execution_count": 5,
   "metadata": {},
   "outputs": [],
   "source": [
    "output = inverse_laplace_transform(transfer_fnc, s, t)"
   ]
  },
  {
   "cell_type": "code",
   "execution_count": 6,
   "metadata": {},
   "outputs": [
    {
     "data": {
      "image/png": "[encoded data removed]",
      "text/latex": [
       "$$4 - 4 e^{- \\frac{t}{3}}$$"
      ],
      "text/plain": [
       "       -t \n",
       "       ───\n",
       "        3 \n",
       "4 - 4⋅ℯ   "
      ]
     },
     "execution_count": 6,
     "metadata": {},
     "output_type": "execute_result"
    }
   ],
   "source": [
    "simplify(output)"
   ]
  },
  {
   "cell_type": "markdown",
   "metadata": {},
   "source": [
    "Finally, let's print the system's response $y(t)$:"
   ]
  },
  {
   "cell_type": "code",
   "execution_count": 7,
   "metadata": {},
   "outputs": [
    {
     "data": {
      "text/plain": [
       "[<matplotlib.lines.Line2D at 0x7fdc713fef60>]"
      ]
     },
     "execution_count": 7,
     "metadata": {},
     "output_type": "execute_result"
    },
    {
     "data": {
      "image/png": "[encoded data removed]",
      "text/plain": [
       "<matplotlib.figure.Figure at 0x7fdc7143f5f8>"
      ]
     },
     "metadata": {},
     "output_type": "display_data"
    }
   ],
   "source": [
    "import numpy as np\n",
    "t = np.linspace (0, 20, 100)\n",
    "output = 4-4*np.e**(-t/3)\n",
    "plt.plot(t, output)"
   ]
  },
  {
   "cell_type": "code",
   "execution_count": null,
   "metadata": {},
   "outputs": [],
   "source": []
  }
 ],
 "metadata": {
  "kernelspec": {
   "display_name": "Python 3",
   "language": "python",
   "name": "python3"
  },
  "language_info": {
   "codemirror_mode": {
    "name": "ipython",
    "version": 3
   },
   "file_extension": ".py",
   "mimetype": "text/x-python",
   "name": "python",
   "nbconvert_exporter": "python",
   "pygments_lexer": "ipython3",
   "version": "3.6.7"
  }
 },
 "nbformat": 4,
 "nbformat_minor": 2
}
